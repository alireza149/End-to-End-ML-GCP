{
 "cells": [
  {
   "cell_type": "code",
   "execution_count": 2,
   "metadata": {},
   "outputs": [],
   "source": [
    "BUCKET_NAME = \"qwiklabs-gcp-03-7aa8cf07fc69\" #@param {type:\"string\"}\n",
    "REGION = \"us-east1\" #@param {type:\"string\"}"
   ]
  },
  {
   "cell_type": "code",
   "execution_count": 3,
   "metadata": {},
   "outputs": [
    {
     "name": "stdout",
     "output_type": "stream",
     "text": [
      "Creating gs://qwiklabs-gcp-03-7aa8cf07fc69/...\n"
     ]
    }
   ],
   "source": [
    "# Creating a bucket\n",
    "\n",
    "! gsutil mb -l $REGION gs://$BUCKET_NAME"
   ]
  },
  {
   "cell_type": "code",
   "execution_count": 4,
   "metadata": {},
   "outputs": [],
   "source": [
    "# Test access to the bucket\n",
    "\n",
    "! gsutil ls -al gs://$BUCKET_NAME"
   ]
  },
  {
   "cell_type": "code",
   "execution_count": 6,
   "metadata": {},
   "outputs": [],
   "source": [
    "# Create SQL query using natality data after the year 2000\n",
    "query = \"\"\"\n",
    "SELECT\n",
    "  weight_pounds,\n",
    "  is_male,\n",
    "  mother_age,\n",
    "  plurality,\n",
    "  gestation_weeks\n",
    "  --,FARM_FINGERPRINT(CONCAT(CAST(YEAR AS STRING), CAST(month AS STRING))) AS hashmonth\n",
    "FROM\n",
    "  publicdata.samples.natality\n",
    "WHERE year > 2000\n",
    "\"\"\""
   ]
  },
  {
   "cell_type": "code",
   "execution_count": 8,
   "metadata": {},
   "outputs": [
    {
     "data": {
      "text/html": [
       "<div>\n",
       "<style scoped>\n",
       "    .dataframe tbody tr th:only-of-type {\n",
       "        vertical-align: middle;\n",
       "    }\n",
       "\n",
       "    .dataframe tbody tr th {\n",
       "        vertical-align: top;\n",
       "    }\n",
       "\n",
       "    .dataframe thead th {\n",
       "        text-align: right;\n",
       "    }\n",
       "</style>\n",
       "<table border=\"1\" class=\"dataframe\">\n",
       "  <thead>\n",
       "    <tr style=\"text-align: right;\">\n",
       "      <th></th>\n",
       "      <th>weight_pounds</th>\n",
       "      <th>is_male</th>\n",
       "      <th>mother_age</th>\n",
       "      <th>plurality</th>\n",
       "      <th>gestation_weeks</th>\n",
       "    </tr>\n",
       "  </thead>\n",
       "  <tbody>\n",
       "    <tr>\n",
       "      <th>0</th>\n",
       "      <td>6.686620</td>\n",
       "      <td>True</td>\n",
       "      <td>18</td>\n",
       "      <td>1</td>\n",
       "      <td>43.0</td>\n",
       "    </tr>\n",
       "    <tr>\n",
       "      <th>1</th>\n",
       "      <td>9.360828</td>\n",
       "      <td>True</td>\n",
       "      <td>32</td>\n",
       "      <td>1</td>\n",
       "      <td>41.0</td>\n",
       "    </tr>\n",
       "    <tr>\n",
       "      <th>2</th>\n",
       "      <td>8.437091</td>\n",
       "      <td>False</td>\n",
       "      <td>30</td>\n",
       "      <td>1</td>\n",
       "      <td>39.0</td>\n",
       "    </tr>\n",
       "    <tr>\n",
       "      <th>3</th>\n",
       "      <td>6.124442</td>\n",
       "      <td>False</td>\n",
       "      <td>24</td>\n",
       "      <td>1</td>\n",
       "      <td>40.0</td>\n",
       "    </tr>\n",
       "    <tr>\n",
       "      <th>4</th>\n",
       "      <td>7.125340</td>\n",
       "      <td>False</td>\n",
       "      <td>26</td>\n",
       "      <td>1</td>\n",
       "      <td>41.0</td>\n",
       "    </tr>\n",
       "  </tbody>\n",
       "</table>\n",
       "</div>"
      ],
      "text/plain": [
       "   weight_pounds  is_male  mother_age  plurality  gestation_weeks\n",
       "0       6.686620     True          18          1             43.0\n",
       "1       9.360828     True          32          1             41.0\n",
       "2       8.437091    False          30          1             39.0\n",
       "3       6.124442    False          24          1             40.0\n",
       "4       7.125340    False          26          1             41.0"
      ]
     },
     "execution_count": 8,
     "metadata": {},
     "output_type": "execute_result"
    }
   ],
   "source": [
    "# Call BigQuery and examine in dataframe\n",
    "from google.cloud import bigquery\n",
    "df = bigquery.Client().query(query + \" LIMIT 1000\").to_dataframe()\n",
    "df.head()"
   ]
  },
  {
   "cell_type": "code",
   "execution_count": 9,
   "metadata": {},
   "outputs": [
    {
     "name": "stdout",
     "output_type": "stream",
     "text": [
      "Overwriting preprocess.py\n"
     ]
    }
   ],
   "source": [
    "%%writefile preprocess.py\n",
    "import numpy as np\n",
    "import pandas as pd\n",
    "\n",
    "class MySimpleScaler(object):\n",
    " \n",
    "\n",
    " def preprocess(self, data):\n",
    "        \n",
    "    data = pd.DataFrame(data,columns=['is_male', 'mother_age', 'plurality','gestation_weeks'])\n",
    "    #data = data[data.weight_pounds  > 0]\n",
    "    data = data[data.mother_age  > 0]\n",
    "    data = data[data.plurality > 0]\n",
    "    data = data[data.gestation_weeks > 0]\n",
    "    print(data.shape)\n",
    "\n",
    "    x_cols = ['mother_age', 'plurality', 'gestation_weeks', True]\n",
    "    # Get one hot encoding of columns B\n",
    "    one_hot = pd.get_dummies(data['is_male'])\n",
    "    # Drop column B as it is now encoded\n",
    "    data = data.drop('is_male',axis = 1)\n",
    "    # Join the encoded df\n",
    "    data = data.join(one_hot)\n",
    "\n",
    "\n",
    "    return data[x_cols]"
   ]
  },
  {
   "cell_type": "code",
   "execution_count": 10,
   "metadata": {},
   "outputs": [
    {
     "name": "stdout",
     "output_type": "stream",
     "text": [
      "(991, 4)\n"
     ]
    },
    {
     "name": "stderr",
     "output_type": "stream",
     "text": [
      "/usr/local/lib/python3.5/site-packages/sklearn/ensemble/weight_boosting.py:29: DeprecationWarning: numpy.core.umath_tests is an internal NumPy module and should not be imported. It will be removed in a future NumPy release.\n",
      "  from numpy.core.umath_tests import inner1d\n"
     ]
    },
    {
     "data": {
      "text/plain": [
       "RandomForestRegressor(bootstrap=True, criterion='mse', max_depth=2,\n",
       "           max_features='auto', max_leaf_nodes=None,\n",
       "           min_impurity_decrease=0.0, min_impurity_split=None,\n",
       "           min_samples_leaf=1, min_samples_split=2,\n",
       "           min_weight_fraction_leaf=0.0, n_estimators=10, n_jobs=1,\n",
       "           oob_score=False, random_state=0, verbose=0, warm_start=False)"
      ]
     },
     "execution_count": 10,
     "metadata": {},
     "output_type": "execute_result"
    }
   ],
   "source": [
    "import pickle\n",
    "import numpy as np\n",
    "\n",
    "from sklearn.ensemble import RandomForestRegressor\n",
    "from sklearn.externals import joblib\n",
    "\n",
    "from preprocess import MySimpleScaler\n",
    "\n",
    "\n",
    "scaler = MySimpleScaler()\n",
    "X = scaler.preprocess(np.asarray(df[['is_male', 'mother_age', 'plurality','gestation_weeks']]))\n",
    "\n",
    "merged = X.merge(df[['weight_pounds']], left_index=True, right_index=True, how='inner')\n",
    "#print(data_new)\n",
    "\n",
    "model = RandomForestRegressor(max_depth=2, random_state=0)\n",
    "model.fit(X, merged['weight_pounds'])"
   ]
  },
  {
   "cell_type": "code",
   "execution_count": 12,
   "metadata": {},
   "outputs": [
    {
     "data": {
      "text/html": [
       "<div>\n",
       "<style scoped>\n",
       "    .dataframe tbody tr th:only-of-type {\n",
       "        vertical-align: middle;\n",
       "    }\n",
       "\n",
       "    .dataframe tbody tr th {\n",
       "        vertical-align: top;\n",
       "    }\n",
       "\n",
       "    .dataframe thead th {\n",
       "        text-align: right;\n",
       "    }\n",
       "</style>\n",
       "<table border=\"1\" class=\"dataframe\">\n",
       "  <thead>\n",
       "    <tr style=\"text-align: right;\">\n",
       "      <th></th>\n",
       "      <th>mother_age</th>\n",
       "      <th>plurality</th>\n",
       "      <th>gestation_weeks</th>\n",
       "      <th>True</th>\n",
       "    </tr>\n",
       "  </thead>\n",
       "  <tbody>\n",
       "    <tr>\n",
       "      <th>0</th>\n",
       "      <td>18</td>\n",
       "      <td>1</td>\n",
       "      <td>43</td>\n",
       "      <td>1</td>\n",
       "    </tr>\n",
       "    <tr>\n",
       "      <th>1</th>\n",
       "      <td>32</td>\n",
       "      <td>1</td>\n",
       "      <td>41</td>\n",
       "      <td>1</td>\n",
       "    </tr>\n",
       "    <tr>\n",
       "      <th>2</th>\n",
       "      <td>30</td>\n",
       "      <td>1</td>\n",
       "      <td>39</td>\n",
       "      <td>0</td>\n",
       "    </tr>\n",
       "    <tr>\n",
       "      <th>3</th>\n",
       "      <td>24</td>\n",
       "      <td>1</td>\n",
       "      <td>40</td>\n",
       "      <td>0</td>\n",
       "    </tr>\n",
       "    <tr>\n",
       "      <th>4</th>\n",
       "      <td>26</td>\n",
       "      <td>1</td>\n",
       "      <td>41</td>\n",
       "      <td>0</td>\n",
       "    </tr>\n",
       "  </tbody>\n",
       "</table>\n",
       "</div>"
      ],
      "text/plain": [
       "  mother_age plurality gestation_weeks  True\n",
       "0         18         1              43     1\n",
       "1         32         1              41     1\n",
       "2         30         1              39     0\n",
       "3         24         1              40     0\n",
       "4         26         1              41     0"
      ]
     },
     "execution_count": 12,
     "metadata": {},
     "output_type": "execute_result"
    }
   ],
   "source": [
    "X.head()"
   ]
  },
  {
   "cell_type": "code",
   "execution_count": 13,
   "metadata": {},
   "outputs": [
    {
     "name": "stdout",
     "output_type": "stream",
     "text": [
      "[0. 0. 1. 0.]\n",
      "0.3579143130149024\n"
     ]
    }
   ],
   "source": [
    "print(model.feature_importances_)\n",
    "print(model.score(X,merged['weight_pounds']))"
   ]
  },
  {
   "cell_type": "code",
   "execution_count": 17,
   "metadata": {},
   "outputs": [
    {
     "data": {
      "text/plain": [
       "array([6.8564948])"
      ]
     },
     "execution_count": 17,
     "metadata": {},
     "output_type": "execute_result"
    }
   ],
   "source": [
    "import numpy as np\n",
    "model.predict([[32, 1, 37, True]])\n"
   ]
  },
  {
   "cell_type": "code",
   "execution_count": 19,
   "metadata": {},
   "outputs": [],
   "source": [
    "joblib.dump(model, 'model.joblib')\n",
    "with open ('preprocessor.pkl', 'wb') as f:\n",
    "  pickle.dump(scaler, f)"
   ]
  },
  {
   "cell_type": "code",
   "execution_count": null,
   "metadata": {},
   "outputs": [],
   "source": [
    "Deploying a custom prediction routine\n",
    "To deploy a custom prediction routine to serve predictions from your trained model, do the following:\n",
    "\n",
    "Create a custom predictor to handle requests\n",
    "Package your predictor and your preprocessing module\n",
    "Upload your model artifacts and your custom code to Cloud Storage\n",
    "Deploy your custom prediction routine to AI Platform"
   ]
  },
  {
   "cell_type": "code",
   "execution_count": 20,
   "metadata": {},
   "outputs": [
    {
     "name": "stdout",
     "output_type": "stream",
     "text": [
      "Overwriting predictor.py\n"
     ]
    }
   ],
   "source": [
    "%%writefile predictor.py\n",
    "import os\n",
    "import pickle\n",
    "\n",
    "import numpy as np\n",
    "from sklearn.externals import joblib\n",
    "\n",
    "class MyPredictor(object):\n",
    "  def __init__(self, model, preprocessor):\n",
    "    self._model = model\n",
    "    self._preprocessor = preprocessor\n",
    "    #self._class_names = load_iris().target_names\n",
    "\n",
    "  def predict(self, instances, **kwargs):\n",
    "    inputs = np.asarray(instances, dtype = object)\n",
    "    preprocessed_inputs = self._preprocessor.preprocess(inputs)\n",
    "    # print(preprocessed_inputs)\n",
    "    outputs = self._model.predict(preprocessed_inputs)\n",
    "    return list(outputs)\n",
    "\n",
    "  @classmethod\n",
    "  def from_path(cls, model_dir):\n",
    "    model_path = os.path.join(model_dir, 'model.joblib')\n",
    "    model = joblib.load(model_path)\n",
    "\n",
    "    preprocessor_path = os.path.join(model_dir, 'preprocessor.pkl')\n",
    "    with open(preprocessor_path, 'rb') as f:\n",
    "      preprocessor = pickle.load(f)\n",
    "\n",
    "    return cls(model, preprocessor)"
   ]
  },
  {
   "cell_type": "code",
   "execution_count": 21,
   "metadata": {},
   "outputs": [
    {
     "name": "stdout",
     "output_type": "stream",
     "text": [
      "Overwriting setup.py\n"
     ]
    }
   ],
   "source": [
    "%%writefile setup.py\n",
    "from setuptools import setup\n",
    "\n",
    "setup(\n",
    "    name='my_custom_code',\n",
    "    version='0.1',\n",
    "    scripts=['predictor.py', 'preprocess.py'])"
   ]
  },
  {
   "cell_type": "code",
   "execution_count": 22,
   "metadata": {},
   "outputs": [
    {
     "name": "stdout",
     "output_type": "stream",
     "text": [
      "running sdist\n",
      "running egg_info\n",
      "writing my_custom_code.egg-info/PKG-INFO\n",
      "writing top-level names to my_custom_code.egg-info/top_level.txt\n",
      "writing dependency_links to my_custom_code.egg-info/dependency_links.txt\n",
      "reading manifest file 'my_custom_code.egg-info/SOURCES.txt'\n",
      "writing manifest file 'my_custom_code.egg-info/SOURCES.txt'\n",
      "running check\n",
      "warning: check: missing required meta-data: url\n",
      "\n",
      "warning: check: missing meta-data: either (author and author_email) or (maintainer and maintainer_email) must be supplied\n",
      "\n",
      "creating my_custom_code-0.1\n",
      "creating my_custom_code-0.1/my_custom_code.egg-info\n",
      "copying files to my_custom_code-0.1...\n",
      "copying README.md -> my_custom_code-0.1\n",
      "copying predictor.py -> my_custom_code-0.1\n",
      "copying preprocess.py -> my_custom_code-0.1\n",
      "copying setup.py -> my_custom_code-0.1\n",
      "copying my_custom_code.egg-info/PKG-INFO -> my_custom_code-0.1/my_custom_code.egg-info\n",
      "copying my_custom_code.egg-info/SOURCES.txt -> my_custom_code-0.1/my_custom_code.egg-info\n",
      "copying my_custom_code.egg-info/dependency_links.txt -> my_custom_code-0.1/my_custom_code.egg-info\n",
      "copying my_custom_code.egg-info/top_level.txt -> my_custom_code-0.1/my_custom_code.egg-info\n",
      "Writing my_custom_code-0.1/setup.cfg\n",
      "Creating tar archive\n",
      "removing 'my_custom_code-0.1' (and everything under it)\n"
     ]
    }
   ],
   "source": [
    "! python setup.py sdist --formats=gztar"
   ]
  },
  {
   "cell_type": "code",
   "execution_count": 23,
   "metadata": {},
   "outputs": [
    {
     "name": "stdout",
     "output_type": "stream",
     "text": [
      "Copying file://./dist/my_custom_code-0.1.tar.gz [Content-Type=application/x-tar]...\n",
      "/ [1 files][  1.3 KiB/  1.3 KiB]                                                \n",
      "Operation completed over 1 objects/1.3 KiB.                                      \n",
      "Copying file://model.joblib [Content-Type=application/octet-stream]...\n",
      "Copying file://preprocessor.pkl [Content-Type=application/octet-stream]...      \n",
      "/ [2 files][  8.4 KiB/  8.4 KiB]                                                \n",
      "Operation completed over 2 objects/8.4 KiB.                                      \n"
     ]
    }
   ],
   "source": [
    "# Upload model artifacts and custom code to Cloud Storage\n",
    "# model.joblib (model artifact)\n",
    "# preprocessor.pkl (model artifact)\n",
    "# my_custom_code-0.1.tar.gz (custom code)\n",
    "\n",
    "! gsutil cp ./dist/my_custom_code-0.1.tar.gz gs://$BUCKET_NAME/custom_prediction_routine/my_custom_code-0.1.tar.gz\n",
    "! gsutil cp model.joblib preprocessor.pkl gs://$BUCKET_NAME/custom_prediction_routine/model/"
   ]
  },
  {
   "cell_type": "code",
   "execution_count": 24,
   "metadata": {},
   "outputs": [],
   "source": [
    "MODEL_NAME = 'CPR_test'\n",
    "VERSION_NAME = 'v1'"
   ]
  },
  {
   "cell_type": "code",
   "execution_count": 25,
   "metadata": {},
   "outputs": [
    {
     "name": "stdout",
     "output_type": "stream",
     "text": [
      "Created ml engine model [projects/qwiklabs-gcp-03-7aa8cf07fc69/models/CPR_test].\n"
     ]
    }
   ],
   "source": [
    "# create your model\n",
    "\n",
    "! gcloud ai-platform models create $MODEL_NAME \\\n",
    "  --regions $REGION"
   ]
  },
  {
   "cell_type": "code",
   "execution_count": 26,
   "metadata": {},
   "outputs": [
    {
     "name": "stdout",
     "output_type": "stream",
     "text": [
      "Creating version (this might take a few minutes)......done.                    \n"
     ]
    }
   ],
   "source": [
    "# --quiet automatically installs the beta component if it isn't already installed \n",
    "! gcloud --quiet beta ai-platform versions create $VERSION_NAME \\\n",
    "  --model $MODEL_NAME \\\n",
    "  --runtime-version 1.13 \\\n",
    "  --python-version 3.5 \\\n",
    "  --origin gs://$BUCKET_NAME/custom_prediction_routine/model/ \\\n",
    "  --package-uris gs://$BUCKET_NAME/custom_prediction_routine/my_custom_code-0.1.tar.gz \\\n",
    "  --prediction-class predictor.MyPredictor"
   ]
  },
  {
   "cell_type": "code",
   "execution_count": 27,
   "metadata": {},
   "outputs": [
    {
     "name": "stdout",
     "output_type": "stream",
     "text": [
      "Requirement already up-to-date: google-api-python-client in /usr/local/lib/python3.5/dist-packages (1.7.11)\n",
      "Requirement already satisfied, skipping upgrade: six<2dev,>=1.6.1 in /usr/local/lib/python3.5/dist-packages (from google-api-python-client) (1.13.0)\n",
      "Requirement already satisfied, skipping upgrade: google-auth>=1.4.1 in /usr/local/lib/python3.5/dist-packages (from google-api-python-client) (1.8.2)\n",
      "Requirement already satisfied, skipping upgrade: httplib2<1dev,>=0.9.2 in /usr/local/lib/python3.5/dist-packages (from google-api-python-client) (0.14.0)\n",
      "Requirement already satisfied, skipping upgrade: google-auth-httplib2>=0.0.3 in /usr/local/lib/python3.5/dist-packages (from google-api-python-client) (0.0.3)\n",
      "Requirement already satisfied, skipping upgrade: uritemplate<4dev,>=3.0.0 in /usr/local/lib/python3.5/dist-packages (from google-api-python-client) (3.0.0)\n",
      "Requirement already satisfied, skipping upgrade: rsa<4.1,>=3.1.4 in /usr/local/lib/python3.5/dist-packages (from google-auth>=1.4.1->google-api-python-client) (4.0)\n",
      "Requirement already satisfied, skipping upgrade: setuptools>=40.3.0 in /usr/local/lib/python3.5/dist-packages (from google-auth>=1.4.1->google-api-python-client) (42.0.2)\n",
      "Requirement already satisfied, skipping upgrade: pyasn1-modules>=0.2.1 in /usr/local/lib/python3.5/dist-packages (from google-auth>=1.4.1->google-api-python-client) (0.2.7)\n",
      "Requirement already satisfied, skipping upgrade: cachetools<3.2,>=2.0.0 in /usr/local/lib/python3.5/dist-packages (from google-auth>=1.4.1->google-api-python-client) (3.1.1)\n",
      "Requirement already satisfied, skipping upgrade: pyasn1>=0.1.3 in /usr/local/lib/python3.5/dist-packages (from rsa<4.1,>=3.1.4->google-auth>=1.4.1->google-api-python-client) (0.4.8)\n"
     ]
    }
   ],
   "source": [
    "! pip install --upgrade google-api-python-client"
   ]
  },
  {
   "cell_type": "code",
   "execution_count": 28,
   "metadata": {},
   "outputs": [],
   "source": [
    "PROJECT_ID = 'qwiklabs-gcp-03-7aa8cf07fc69'"
   ]
  },
  {
   "cell_type": "code",
   "execution_count": 29,
   "metadata": {},
   "outputs": [
    {
     "name": "stdout",
     "output_type": "stream",
     "text": [
      "Updated property [core/project].\n"
     ]
    }
   ],
   "source": [
    "! gcloud config set project $PROJECT_ID"
   ]
  },
  {
   "cell_type": "code",
   "execution_count": 36,
   "metadata": {},
   "outputs": [],
   "source": [
    "import googleapiclient.discovery\n",
    "\n",
    "instances = [[True, 37, 1, 37.0],\n",
    "            [False, 30, 1, 39.0]]\n",
    "\n",
    "\n",
    "#instances = np.asarray(df[['mother_age', 'plurality', 'gestation_weeks','is_male']].head())\n",
    "\n",
    "service = googleapiclient.discovery.build('ml', 'v1')\n",
    "name = 'projects/{}/models/{}/versions/{}'.format(PROJECT_ID, MODEL_NAME, VERSION_NAME)\n",
    "\n"
   ]
  },
  {
   "cell_type": "code",
   "execution_count": 37,
   "metadata": {},
   "outputs": [],
   "source": [
    "response = service.projects().predict(\n",
    "    name=name,\n",
    "    body={'instances': instances}\n",
    ").execute()\n",
    "\n"
   ]
  },
  {
   "cell_type": "code",
   "execution_count": 38,
   "metadata": {},
   "outputs": [
    {
     "data": {
      "text/plain": [
       "{'predictions': [6.856494795111921, 7.595946823848207]}"
      ]
     },
     "execution_count": 38,
     "metadata": {},
     "output_type": "execute_result"
    }
   ],
   "source": [
    "response"
   ]
  }
 ],
 "metadata": {
  "kernelspec": {
   "display_name": "Python 3",
   "language": "python",
   "name": "python3"
  },
  "language_info": {
   "codemirror_mode": {
    "name": "ipython",
    "version": 3
   },
   "file_extension": ".py",
   "mimetype": "text/x-python",
   "name": "python",
   "nbconvert_exporter": "python",
   "pygments_lexer": "ipython3",
   "version": "3.5.3"
  }
 },
 "nbformat": 4,
 "nbformat_minor": 4
}
